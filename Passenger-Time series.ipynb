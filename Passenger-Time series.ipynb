{
 "cells": [
  {
   "cell_type": "code",
   "execution_count": 1,
   "id": "65b99141-aa98-4287-8ad9-525791f9f0ac",
   "metadata": {},
   "outputs": [],
   "source": [
    "import numpy as np\n",
    "import pandas as pd\n",
    "import seaborn as sns\n",
    "import matplotlib.pyplot as plt\n",
    "%matplotlib inline\n",
    "import statsmodels.api as sms"
   ]
  },
  {
   "cell_type": "code",
   "execution_count": 3,
   "id": "0606581b-9586-4392-86a6-1b4657dfbb2c",
   "metadata": {},
   "outputs": [],
   "source": [
    "airline_data=pd.read_csv('airline_passengers.csv')"
   ]
  },
  {
   "cell_type": "code",
   "execution_count": 4,
   "id": "5688fcf5-b46b-4f8b-9963-377d14bc31c9",
   "metadata": {},
   "outputs": [
    {
     "data": {
      "text/html": [
       "<div>\n",
       "<style scoped>\n",
       "    .dataframe tbody tr th:only-of-type {\n",
       "        vertical-align: middle;\n",
       "    }\n",
       "\n",
       "    .dataframe tbody tr th {\n",
       "        vertical-align: top;\n",
       "    }\n",
       "\n",
       "    .dataframe thead th {\n",
       "        text-align: right;\n",
       "    }\n",
       "</style>\n",
       "<table border=\"1\" class=\"dataframe\">\n",
       "  <thead>\n",
       "    <tr style=\"text-align: right;\">\n",
       "      <th></th>\n",
       "      <th>Month</th>\n",
       "      <th>Thousands of Passengers</th>\n",
       "    </tr>\n",
       "  </thead>\n",
       "  <tbody>\n",
       "    <tr>\n",
       "      <th>0</th>\n",
       "      <td>1949-01</td>\n",
       "      <td>112.0</td>\n",
       "    </tr>\n",
       "    <tr>\n",
       "      <th>1</th>\n",
       "      <td>1949-02</td>\n",
       "      <td>118.0</td>\n",
       "    </tr>\n",
       "    <tr>\n",
       "      <th>2</th>\n",
       "      <td>1949-03</td>\n",
       "      <td>132.0</td>\n",
       "    </tr>\n",
       "    <tr>\n",
       "      <th>3</th>\n",
       "      <td>1949-04</td>\n",
       "      <td>129.0</td>\n",
       "    </tr>\n",
       "    <tr>\n",
       "      <th>4</th>\n",
       "      <td>1949-05</td>\n",
       "      <td>121.0</td>\n",
       "    </tr>\n",
       "  </tbody>\n",
       "</table>\n",
       "</div>"
      ],
      "text/plain": [
       "     Month  Thousands of Passengers\n",
       "0  1949-01                    112.0\n",
       "1  1949-02                    118.0\n",
       "2  1949-03                    132.0\n",
       "3  1949-04                    129.0\n",
       "4  1949-05                    121.0"
      ]
     },
     "execution_count": 4,
     "metadata": {},
     "output_type": "execute_result"
    }
   ],
   "source": [
    "airline_data.head()"
   ]
  },
  {
   "cell_type": "code",
   "execution_count": 5,
   "id": "e3e34e16-31ae-4cfb-b3f6-c36eb696366e",
   "metadata": {},
   "outputs": [
    {
     "data": {
      "text/plain": [
       "Month                      0\n",
       "Thousands of Passengers    1\n",
       "dtype: int64"
      ]
     },
     "execution_count": 5,
     "metadata": {},
     "output_type": "execute_result"
    }
   ],
   "source": [
    "airline_data.isnull().sum()"
   ]
  },
  {
   "cell_type": "code",
   "execution_count": 11,
   "id": "8178b554-517f-47bf-8fac-712a243f5fbb",
   "metadata": {},
   "outputs": [
    {
     "data": {
      "text/html": [
       "<div>\n",
       "<style scoped>\n",
       "    .dataframe tbody tr th:only-of-type {\n",
       "        vertical-align: middle;\n",
       "    }\n",
       "\n",
       "    .dataframe tbody tr th {\n",
       "        vertical-align: top;\n",
       "    }\n",
       "\n",
       "    .dataframe thead th {\n",
       "        text-align: right;\n",
       "    }\n",
       "</style>\n",
       "<table border=\"1\" class=\"dataframe\">\n",
       "  <thead>\n",
       "    <tr style=\"text-align: right;\">\n",
       "      <th></th>\n",
       "      <th>Month</th>\n",
       "      <th>Thousands of Passengers</th>\n",
       "    </tr>\n",
       "  </thead>\n",
       "  <tbody>\n",
       "    <tr>\n",
       "      <th>144</th>\n",
       "      <td>International airline passengers: monthly tota...</td>\n",
       "      <td>NaN</td>\n",
       "    </tr>\n",
       "  </tbody>\n",
       "</table>\n",
       "</div>"
      ],
      "text/plain": [
       "                                                 Month  \\\n",
       "144  International airline passengers: monthly tota...   \n",
       "\n",
       "     Thousands of Passengers  \n",
       "144                      NaN  "
      ]
     },
     "execution_count": 11,
     "metadata": {},
     "output_type": "execute_result"
    }
   ],
   "source": [
    "airline_data[airline_data['Thousands of Passengers'].isnull()]"
   ]
  },
  {
   "cell_type": "code",
   "execution_count": 12,
   "id": "c8873622-3de2-46cf-a225-c12dd7be6b35",
   "metadata": {},
   "outputs": [],
   "source": [
    "airline_data.dropna(axis=0,inplace=True)"
   ]
  },
  {
   "cell_type": "code",
   "execution_count": 13,
   "id": "ac45aa82-5d0b-42db-942f-f2240bc7594c",
   "metadata": {},
   "outputs": [
    {
     "data": {
      "text/plain": [
       "Month                      0\n",
       "Thousands of Passengers    0\n",
       "dtype: int64"
      ]
     },
     "execution_count": 13,
     "metadata": {},
     "output_type": "execute_result"
    }
   ],
   "source": [
    "airline_data.isnull().sum()"
   ]
  },
  {
   "cell_type": "code",
   "execution_count": 16,
   "id": "06d1b34e-1d1f-4fa1-9291-688888ebebcc",
   "metadata": {},
   "outputs": [
    {
     "name": "stdout",
     "output_type": "stream",
     "text": [
      "<class 'pandas.core.frame.DataFrame'>\n",
      "Int64Index: 144 entries, 0 to 143\n",
      "Data columns (total 2 columns):\n",
      " #   Column                   Non-Null Count  Dtype         \n",
      "---  ------                   --------------  -----         \n",
      " 0   Month                    144 non-null    datetime64[ns]\n",
      " 1   Thousands of Passengers  144 non-null    float64       \n",
      "dtypes: datetime64[ns](1), float64(1)\n",
      "memory usage: 3.4 KB\n"
     ]
    }
   ],
   "source": [
    "airline_data.info()"
   ]
  },
  {
   "cell_type": "code",
   "execution_count": 15,
   "id": "d6e6879c-f1ed-4138-a1ee-aaeaaf7a25be",
   "metadata": {},
   "outputs": [],
   "source": [
    "airline_data['Month']=pd.to_datetime(airline_data['Month'])"
   ]
  },
  {
   "cell_type": "code",
   "execution_count": 20,
   "id": "aa567eb5-4ea2-472a-938c-4668f3f01f1e",
   "metadata": {},
   "outputs": [
    {
     "data": {
      "text/html": [
       "<div>\n",
       "<style scoped>\n",
       "    .dataframe tbody tr th:only-of-type {\n",
       "        vertical-align: middle;\n",
       "    }\n",
       "\n",
       "    .dataframe tbody tr th {\n",
       "        vertical-align: top;\n",
       "    }\n",
       "\n",
       "    .dataframe thead th {\n",
       "        text-align: right;\n",
       "    }\n",
       "</style>\n",
       "<table border=\"1\" class=\"dataframe\">\n",
       "  <thead>\n",
       "    <tr style=\"text-align: right;\">\n",
       "      <th></th>\n",
       "      <th>Thousands of Passengers</th>\n",
       "    </tr>\n",
       "    <tr>\n",
       "      <th>Month</th>\n",
       "      <th></th>\n",
       "    </tr>\n",
       "  </thead>\n",
       "  <tbody>\n",
       "    <tr>\n",
       "      <th>1949-01-01</th>\n",
       "      <td>112.0</td>\n",
       "    </tr>\n",
       "    <tr>\n",
       "      <th>1949-02-01</th>\n",
       "      <td>118.0</td>\n",
       "    </tr>\n",
       "    <tr>\n",
       "      <th>1949-03-01</th>\n",
       "      <td>132.0</td>\n",
       "    </tr>\n",
       "    <tr>\n",
       "      <th>1949-04-01</th>\n",
       "      <td>129.0</td>\n",
       "    </tr>\n",
       "    <tr>\n",
       "      <th>1949-05-01</th>\n",
       "      <td>121.0</td>\n",
       "    </tr>\n",
       "  </tbody>\n",
       "</table>\n",
       "</div>"
      ],
      "text/plain": [
       "            Thousands of Passengers\n",
       "Month                              \n",
       "1949-01-01                    112.0\n",
       "1949-02-01                    118.0\n",
       "1949-03-01                    132.0\n",
       "1949-04-01                    129.0\n",
       "1949-05-01                    121.0"
      ]
     },
     "execution_count": 20,
     "metadata": {},
     "output_type": "execute_result"
    }
   ],
   "source": [
    "airline_data.head()"
   ]
  },
  {
   "cell_type": "code",
   "execution_count": 19,
   "id": "931e3420-379f-420a-b660-5eb7fa3fa948",
   "metadata": {},
   "outputs": [],
   "source": [
    "airline_data.set_index('Month',inplace=True)"
   ]
  },
  {
   "cell_type": "code",
   "execution_count": 21,
   "id": "919a297d-9127-479f-a470-1c87986c84a8",
   "metadata": {},
   "outputs": [
    {
     "data": {
      "text/plain": [
       "<AxesSubplot:xlabel='Month'>"
      ]
     },
     "execution_count": 21,
     "metadata": {},
     "output_type": "execute_result"
    },
    {
     "data": {
      "image/png": "[encoded data removed]",
      "text/plain": [
       "<Figure size 432x288 with 1 Axes>"
      ]
     },
     "metadata": {
      "needs_background": "light"
     },
     "output_type": "display_data"
    }
   ],
   "source": [
    "airline_data.plot()"
   ]
  },
  {
   "cell_type": "code",
   "execution_count": 22,
   "id": "3cbff7b7-af32-43b1-837b-d1d81365784d",
   "metadata": {},
   "outputs": [],
   "source": [
    "from statsmodels.tsa.stattools import adfuller"
   ]
  },
  {
   "cell_type": "code",
   "execution_count": 26,
   "id": "853f1f81-1053-41a5-8b83-9f30c835cea1",
   "metadata": {},
   "outputs": [],
   "source": [
    "def adf_test(series):\n",
    "    result=adfuller(series)\n",
    "    print('ADF Statistics: {}'.format(result[0]))\n",
    "    print('p-value: {}'.format(result[1]))\n",
    "    if(result[1]<=0.05):\n",
    "        print(\"Reject null hypothesis, having stationary data\")\n",
    "    else:\n",
    "        print(\"Accept null hypothesis, no stationary data \")"
   ]
  },
  {
   "cell_type": "code",
   "execution_count": 27,
   "id": "ac67914b-6743-4427-ad33-e60f74a196df",
   "metadata": {},
   "outputs": [
    {
     "name": "stdout",
     "output_type": "stream",
     "text": [
      "ADF Statistics: 0.8153688792060463\n",
      "p-value: 0.991880243437641\n",
      "Accept null hypothesis, no stationary data \n"
     ]
    }
   ],
   "source": [
    "adf_test(airline_data['Thousands of Passengers'])"
   ]
  },
  {
   "cell_type": "markdown",
   "id": "bca17de5-72db-445d-9892-92e07366f84b",
   "metadata": {},
   "source": [
    "## Use Technique differencing"
   ]
  },
  {
   "cell_type": "code",
   "execution_count": 28,
   "id": "68fd3a8b-5b82-4f66-b01d-5c692119c66b",
   "metadata": {},
   "outputs": [],
   "source": [
    "airline_data['First Diff']=airline_data['Thousands of Passengers']-airline_data['Thousands of Passengers'].shift(1)"
   ]
  },
  {
   "cell_type": "code",
   "execution_count": 29,
   "id": "05e16d79-c236-4b56-a516-3907513c471c",
   "metadata": {},
   "outputs": [
    {
     "data": {
      "text/html": [
       "<div>\n",
       "<style scoped>\n",
       "    .dataframe tbody tr th:only-of-type {\n",
       "        vertical-align: middle;\n",
       "    }\n",
       "\n",
       "    .dataframe tbody tr th {\n",
       "        vertical-align: top;\n",
       "    }\n",
       "\n",
       "    .dataframe thead th {\n",
       "        text-align: right;\n",
       "    }\n",
       "</style>\n",
       "<table border=\"1\" class=\"dataframe\">\n",
       "  <thead>\n",
       "    <tr style=\"text-align: right;\">\n",
       "      <th></th>\n",
       "      <th>Thousands of Passengers</th>\n",
       "      <th>First Diff</th>\n",
       "    </tr>\n",
       "    <tr>\n",
       "      <th>Month</th>\n",
       "      <th></th>\n",
       "      <th></th>\n",
       "    </tr>\n",
       "  </thead>\n",
       "  <tbody>\n",
       "    <tr>\n",
       "      <th>1949-01-01</th>\n",
       "      <td>112.0</td>\n",
       "      <td>NaN</td>\n",
       "    </tr>\n",
       "    <tr>\n",
       "      <th>1949-02-01</th>\n",
       "      <td>118.0</td>\n",
       "      <td>6.0</td>\n",
       "    </tr>\n",
       "    <tr>\n",
       "      <th>1949-03-01</th>\n",
       "      <td>132.0</td>\n",
       "      <td>14.0</td>\n",
       "    </tr>\n",
       "    <tr>\n",
       "      <th>1949-04-01</th>\n",
       "      <td>129.0</td>\n",
       "      <td>-3.0</td>\n",
       "    </tr>\n",
       "    <tr>\n",
       "      <th>1949-05-01</th>\n",
       "      <td>121.0</td>\n",
       "      <td>-8.0</td>\n",
       "    </tr>\n",
       "  </tbody>\n",
       "</table>\n",
       "</div>"
      ],
      "text/plain": [
       "            Thousands of Passengers  First Diff\n",
       "Month                                          \n",
       "1949-01-01                    112.0         NaN\n",
       "1949-02-01                    118.0         6.0\n",
       "1949-03-01                    132.0        14.0\n",
       "1949-04-01                    129.0        -3.0\n",
       "1949-05-01                    121.0        -8.0"
      ]
     },
     "execution_count": 29,
     "metadata": {},
     "output_type": "execute_result"
    }
   ],
   "source": [
    "airline_data.head()"
   ]
  },
  {
   "cell_type": "code",
   "execution_count": 30,
   "id": "d5b44473-733f-4b6c-805c-76937145a17e",
   "metadata": {},
   "outputs": [
    {
     "name": "stdout",
     "output_type": "stream",
     "text": [
      "ADF Statistics: -2.8292668241699923\n",
      "p-value: 0.054213290283826474\n",
      "Accept null hypothesis, no stationary data \n"
     ]
    }
   ],
   "source": [
    "adf_test(airline_data['First Diff'].dropna())"
   ]
  },
  {
   "cell_type": "code",
   "execution_count": 33,
   "id": "f2d9980b-f65d-4e21-b92c-e8655bd5d933",
   "metadata": {},
   "outputs": [],
   "source": [
    "airline_data['Second Diff']=airline_data['First Diff']-airline_data['First Diff'].shift(1)"
   ]
  },
  {
   "cell_type": "code",
   "execution_count": 34,
   "id": "60d9b605-d87b-48b5-851c-8e619311a480",
   "metadata": {},
   "outputs": [
    {
     "data": {
      "text/html": [
       "<div>\n",
       "<style scoped>\n",
       "    .dataframe tbody tr th:only-of-type {\n",
       "        vertical-align: middle;\n",
       "    }\n",
       "\n",
       "    .dataframe tbody tr th {\n",
       "        vertical-align: top;\n",
       "    }\n",
       "\n",
       "    .dataframe thead th {\n",
       "        text-align: right;\n",
       "    }\n",
       "</style>\n",
       "<table border=\"1\" class=\"dataframe\">\n",
       "  <thead>\n",
       "    <tr style=\"text-align: right;\">\n",
       "      <th></th>\n",
       "      <th>Thousands of Passengers</th>\n",
       "      <th>First Diff</th>\n",
       "      <th>Second Diff</th>\n",
       "    </tr>\n",
       "    <tr>\n",
       "      <th>Month</th>\n",
       "      <th></th>\n",
       "      <th></th>\n",
       "      <th></th>\n",
       "    </tr>\n",
       "  </thead>\n",
       "  <tbody>\n",
       "    <tr>\n",
       "      <th>1949-01-01</th>\n",
       "      <td>112.0</td>\n",
       "      <td>NaN</td>\n",
       "      <td>NaN</td>\n",
       "    </tr>\n",
       "    <tr>\n",
       "      <th>1949-02-01</th>\n",
       "      <td>118.0</td>\n",
       "      <td>6.0</td>\n",
       "      <td>NaN</td>\n",
       "    </tr>\n",
       "    <tr>\n",
       "      <th>1949-03-01</th>\n",
       "      <td>132.0</td>\n",
       "      <td>14.0</td>\n",
       "      <td>8.0</td>\n",
       "    </tr>\n",
       "    <tr>\n",
       "      <th>1949-04-01</th>\n",
       "      <td>129.0</td>\n",
       "      <td>-3.0</td>\n",
       "      <td>-17.0</td>\n",
       "    </tr>\n",
       "    <tr>\n",
       "      <th>1949-05-01</th>\n",
       "      <td>121.0</td>\n",
       "      <td>-8.0</td>\n",
       "      <td>-5.0</td>\n",
       "    </tr>\n",
       "  </tbody>\n",
       "</table>\n",
       "</div>"
      ],
      "text/plain": [
       "            Thousands of Passengers  First Diff  Second Diff\n",
       "Month                                                       \n",
       "1949-01-01                    112.0         NaN          NaN\n",
       "1949-02-01                    118.0         6.0          NaN\n",
       "1949-03-01                    132.0        14.0          8.0\n",
       "1949-04-01                    129.0        -3.0        -17.0\n",
       "1949-05-01                    121.0        -8.0         -5.0"
      ]
     },
     "execution_count": 34,
     "metadata": {},
     "output_type": "execute_result"
    }
   ],
   "source": [
    "airline_data.head()"
   ]
  },
  {
   "cell_type": "code",
   "execution_count": 35,
   "id": "333d609b-b533-423c-a83c-a78030c2b741",
   "metadata": {},
   "outputs": [
    {
     "name": "stdout",
     "output_type": "stream",
     "text": [
      "ADF Statistics: -16.384231542468516\n",
      "p-value: 2.7328918500141235e-29\n",
      "Reject null hypothesis, having stationary data\n"
     ]
    }
   ],
   "source": [
    "adf_test(airline_data['Second Diff'].dropna())"
   ]
  },
  {
   "cell_type": "code",
   "execution_count": 36,
   "id": "35eea0cc-ba82-488a-8476-ee11e5c113d1",
   "metadata": {},
   "outputs": [],
   "source": [
    "from statsmodels.graphics.tsaplots import plot_acf,plot_pacf"
   ]
  },
  {
   "cell_type": "code",
   "execution_count": 37,
   "id": "a810f2f6-6dc4-4d32-b434-b03e3b45d615",
   "metadata": {},
   "outputs": [
    {
     "data": {
      "image/png": "[encoded data removed]",
      "text/plain": [
       "<Figure size 432x288 with 1 Axes>"
      ]
     },
     "metadata": {
      "needs_background": "light"
     },
     "output_type": "display_data"
    }
   ],
   "source": [
    "acf=plot_acf(airline_data['Second Diff'].dropna())"
   ]
  },
  {
   "cell_type": "code",
   "execution_count": 39,
   "id": "c07b4c3e-8a09-420f-b0e9-31102000c700",
   "metadata": {},
   "outputs": [
    {
     "data": {
      "image/png": "[encoded data removed]",
      "text/plain": [
       "<Figure size 432x288 with 1 Axes>"
      ]
     },
     "execution_count": 39,
     "metadata": {},
     "output_type": "execute_result"
    }
   ],
   "source": [
    "acf"
   ]
  },
  {
   "cell_type": "code",
   "execution_count": 38,
   "id": "9d231d0d-e19b-4b20-85ef-95582fdf7891",
   "metadata": {},
   "outputs": [
    {
     "name": "stderr",
     "output_type": "stream",
     "text": [
      "C:\\Users\\Amar\\anaconda3\\lib\\site-packages\\statsmodels\\regression\\linear_model.py:1434: RuntimeWarning: invalid value encountered in sqrt\n",
      "  return rho, np.sqrt(sigmasq)\n"
     ]
    },
    {
     "data": {
      "image/png": "[encoded data removed]",
      "text/plain": [
       "<Figure size 432x288 with 1 Axes>"
      ]
     },
     "metadata": {
      "needs_background": "light"
     },
     "output_type": "display_data"
    }
   ],
   "source": [
    "pacf=plot_pacf(airline_data['Second Diff'].dropna())"
   ]
  },
  {
   "cell_type": "code",
   "execution_count": 40,
   "id": "4907bf98-9a84-48ba-a3ee-add7e78c87ab",
   "metadata": {},
   "outputs": [],
   "source": [
    "## split train and test data\n",
    "\n",
    "from datetime import datetime,timedelta\n",
    "train_data_end=datetime(1955,12,1)\n",
    "test_data_end=datetime(1960,12,1)"
   ]
  },
  {
   "cell_type": "code",
   "execution_count": 41,
   "id": "203c3a9f-1d6d-4498-86d3-5e164d3e27ef",
   "metadata": {},
   "outputs": [],
   "source": [
    "train_data=airline_data[:train_data_end]\n",
    "test_data=airline_data[train_data_end+timedelta(days=1):test_data_end]"
   ]
  },
  {
   "cell_type": "code",
   "execution_count": 42,
   "id": "c71b5953-857b-4667-a1e7-9a3475083e3f",
   "metadata": {},
   "outputs": [],
   "source": [
    "## prediction\n",
    "pred_start_date=test_data.index[0]\n",
    "pred_end_date=test_data.index[-1]"
   ]
  },
  {
   "cell_type": "code",
   "execution_count": 43,
   "id": "6e2347ba-cf19-445d-8007-7d281d43d1b2",
   "metadata": {},
   "outputs": [
    {
     "data": {
      "text/html": [
       "<div>\n",
       "<style scoped>\n",
       "    .dataframe tbody tr th:only-of-type {\n",
       "        vertical-align: middle;\n",
       "    }\n",
       "\n",
       "    .dataframe tbody tr th {\n",
       "        vertical-align: top;\n",
       "    }\n",
       "\n",
       "    .dataframe thead th {\n",
       "        text-align: right;\n",
       "    }\n",
       "</style>\n",
       "<table border=\"1\" class=\"dataframe\">\n",
       "  <thead>\n",
       "    <tr style=\"text-align: right;\">\n",
       "      <th></th>\n",
       "      <th>Thousands of Passengers</th>\n",
       "      <th>First Diff</th>\n",
       "      <th>Second Diff</th>\n",
       "    </tr>\n",
       "    <tr>\n",
       "      <th>Month</th>\n",
       "      <th></th>\n",
       "      <th></th>\n",
       "      <th></th>\n",
       "    </tr>\n",
       "  </thead>\n",
       "  <tbody>\n",
       "    <tr>\n",
       "      <th>1956-01-01</th>\n",
       "      <td>284.0</td>\n",
       "      <td>6.0</td>\n",
       "      <td>-35.0</td>\n",
       "    </tr>\n",
       "    <tr>\n",
       "      <th>1956-02-01</th>\n",
       "      <td>277.0</td>\n",
       "      <td>-7.0</td>\n",
       "      <td>-13.0</td>\n",
       "    </tr>\n",
       "    <tr>\n",
       "      <th>1956-03-01</th>\n",
       "      <td>317.0</td>\n",
       "      <td>40.0</td>\n",
       "      <td>47.0</td>\n",
       "    </tr>\n",
       "    <tr>\n",
       "      <th>1956-04-01</th>\n",
       "      <td>313.0</td>\n",
       "      <td>-4.0</td>\n",
       "      <td>-44.0</td>\n",
       "    </tr>\n",
       "    <tr>\n",
       "      <th>1956-05-01</th>\n",
       "      <td>318.0</td>\n",
       "      <td>5.0</td>\n",
       "      <td>9.0</td>\n",
       "    </tr>\n",
       "    <tr>\n",
       "      <th>1956-06-01</th>\n",
       "      <td>374.0</td>\n",
       "      <td>56.0</td>\n",
       "      <td>51.0</td>\n",
       "    </tr>\n",
       "    <tr>\n",
       "      <th>1956-07-01</th>\n",
       "      <td>413.0</td>\n",
       "      <td>39.0</td>\n",
       "      <td>-17.0</td>\n",
       "    </tr>\n",
       "    <tr>\n",
       "      <th>1956-08-01</th>\n",
       "      <td>405.0</td>\n",
       "      <td>-8.0</td>\n",
       "      <td>-47.0</td>\n",
       "    </tr>\n",
       "    <tr>\n",
       "      <th>1956-09-01</th>\n",
       "      <td>355.0</td>\n",
       "      <td>-50.0</td>\n",
       "      <td>-42.0</td>\n",
       "    </tr>\n",
       "    <tr>\n",
       "      <th>1956-10-01</th>\n",
       "      <td>306.0</td>\n",
       "      <td>-49.0</td>\n",
       "      <td>1.0</td>\n",
       "    </tr>\n",
       "    <tr>\n",
       "      <th>1956-11-01</th>\n",
       "      <td>271.0</td>\n",
       "      <td>-35.0</td>\n",
       "      <td>14.0</td>\n",
       "    </tr>\n",
       "    <tr>\n",
       "      <th>1956-12-01</th>\n",
       "      <td>306.0</td>\n",
       "      <td>35.0</td>\n",
       "      <td>70.0</td>\n",
       "    </tr>\n",
       "    <tr>\n",
       "      <th>1957-01-01</th>\n",
       "      <td>315.0</td>\n",
       "      <td>9.0</td>\n",
       "      <td>-26.0</td>\n",
       "    </tr>\n",
       "    <tr>\n",
       "      <th>1957-02-01</th>\n",
       "      <td>301.0</td>\n",
       "      <td>-14.0</td>\n",
       "      <td>-23.0</td>\n",
       "    </tr>\n",
       "    <tr>\n",
       "      <th>1957-03-01</th>\n",
       "      <td>356.0</td>\n",
       "      <td>55.0</td>\n",
       "      <td>69.0</td>\n",
       "    </tr>\n",
       "    <tr>\n",
       "      <th>1957-04-01</th>\n",
       "      <td>348.0</td>\n",
       "      <td>-8.0</td>\n",
       "      <td>-63.0</td>\n",
       "    </tr>\n",
       "    <tr>\n",
       "      <th>1957-05-01</th>\n",
       "      <td>355.0</td>\n",
       "      <td>7.0</td>\n",
       "      <td>15.0</td>\n",
       "    </tr>\n",
       "    <tr>\n",
       "      <th>1957-06-01</th>\n",
       "      <td>422.0</td>\n",
       "      <td>67.0</td>\n",
       "      <td>60.0</td>\n",
       "    </tr>\n",
       "    <tr>\n",
       "      <th>1957-07-01</th>\n",
       "      <td>465.0</td>\n",
       "      <td>43.0</td>\n",
       "      <td>-24.0</td>\n",
       "    </tr>\n",
       "    <tr>\n",
       "      <th>1957-08-01</th>\n",
       "      <td>467.0</td>\n",
       "      <td>2.0</td>\n",
       "      <td>-41.0</td>\n",
       "    </tr>\n",
       "    <tr>\n",
       "      <th>1957-09-01</th>\n",
       "      <td>404.0</td>\n",
       "      <td>-63.0</td>\n",
       "      <td>-65.0</td>\n",
       "    </tr>\n",
       "    <tr>\n",
       "      <th>1957-10-01</th>\n",
       "      <td>347.0</td>\n",
       "      <td>-57.0</td>\n",
       "      <td>6.0</td>\n",
       "    </tr>\n",
       "    <tr>\n",
       "      <th>1957-11-01</th>\n",
       "      <td>305.0</td>\n",
       "      <td>-42.0</td>\n",
       "      <td>15.0</td>\n",
       "    </tr>\n",
       "    <tr>\n",
       "      <th>1957-12-01</th>\n",
       "      <td>336.0</td>\n",
       "      <td>31.0</td>\n",
       "      <td>73.0</td>\n",
       "    </tr>\n",
       "    <tr>\n",
       "      <th>1958-01-01</th>\n",
       "      <td>340.0</td>\n",
       "      <td>4.0</td>\n",
       "      <td>-27.0</td>\n",
       "    </tr>\n",
       "    <tr>\n",
       "      <th>1958-02-01</th>\n",
       "      <td>318.0</td>\n",
       "      <td>-22.0</td>\n",
       "      <td>-26.0</td>\n",
       "    </tr>\n",
       "    <tr>\n",
       "      <th>1958-03-01</th>\n",
       "      <td>362.0</td>\n",
       "      <td>44.0</td>\n",
       "      <td>66.0</td>\n",
       "    </tr>\n",
       "    <tr>\n",
       "      <th>1958-04-01</th>\n",
       "      <td>348.0</td>\n",
       "      <td>-14.0</td>\n",
       "      <td>-58.0</td>\n",
       "    </tr>\n",
       "    <tr>\n",
       "      <th>1958-05-01</th>\n",
       "      <td>363.0</td>\n",
       "      <td>15.0</td>\n",
       "      <td>29.0</td>\n",
       "    </tr>\n",
       "    <tr>\n",
       "      <th>1958-06-01</th>\n",
       "      <td>435.0</td>\n",
       "      <td>72.0</td>\n",
       "      <td>57.0</td>\n",
       "    </tr>\n",
       "    <tr>\n",
       "      <th>1958-07-01</th>\n",
       "      <td>491.0</td>\n",
       "      <td>56.0</td>\n",
       "      <td>-16.0</td>\n",
       "    </tr>\n",
       "    <tr>\n",
       "      <th>1958-08-01</th>\n",
       "      <td>505.0</td>\n",
       "      <td>14.0</td>\n",
       "      <td>-42.0</td>\n",
       "    </tr>\n",
       "    <tr>\n",
       "      <th>1958-09-01</th>\n",
       "      <td>404.0</td>\n",
       "      <td>-101.0</td>\n",
       "      <td>-115.0</td>\n",
       "    </tr>\n",
       "    <tr>\n",
       "      <th>1958-10-01</th>\n",
       "      <td>359.0</td>\n",
       "      <td>-45.0</td>\n",
       "      <td>56.0</td>\n",
       "    </tr>\n",
       "    <tr>\n",
       "      <th>1958-11-01</th>\n",
       "      <td>310.0</td>\n",
       "      <td>-49.0</td>\n",
       "      <td>-4.0</td>\n",
       "    </tr>\n",
       "    <tr>\n",
       "      <th>1958-12-01</th>\n",
       "      <td>337.0</td>\n",
       "      <td>27.0</td>\n",
       "      <td>76.0</td>\n",
       "    </tr>\n",
       "    <tr>\n",
       "      <th>1959-01-01</th>\n",
       "      <td>360.0</td>\n",
       "      <td>23.0</td>\n",
       "      <td>-4.0</td>\n",
       "    </tr>\n",
       "    <tr>\n",
       "      <th>1959-02-01</th>\n",
       "      <td>342.0</td>\n",
       "      <td>-18.0</td>\n",
       "      <td>-41.0</td>\n",
       "    </tr>\n",
       "    <tr>\n",
       "      <th>1959-03-01</th>\n",
       "      <td>406.0</td>\n",
       "      <td>64.0</td>\n",
       "      <td>82.0</td>\n",
       "    </tr>\n",
       "    <tr>\n",
       "      <th>1959-04-01</th>\n",
       "      <td>396.0</td>\n",
       "      <td>-10.0</td>\n",
       "      <td>-74.0</td>\n",
       "    </tr>\n",
       "    <tr>\n",
       "      <th>1959-05-01</th>\n",
       "      <td>420.0</td>\n",
       "      <td>24.0</td>\n",
       "      <td>34.0</td>\n",
       "    </tr>\n",
       "    <tr>\n",
       "      <th>1959-06-01</th>\n",
       "      <td>472.0</td>\n",
       "      <td>52.0</td>\n",
       "      <td>28.0</td>\n",
       "    </tr>\n",
       "    <tr>\n",
       "      <th>1959-07-01</th>\n",
       "      <td>548.0</td>\n",
       "      <td>76.0</td>\n",
       "      <td>24.0</td>\n",
       "    </tr>\n",
       "    <tr>\n",
       "      <th>1959-08-01</th>\n",
       "      <td>559.0</td>\n",
       "      <td>11.0</td>\n",
       "      <td>-65.0</td>\n",
       "    </tr>\n",
       "    <tr>\n",
       "      <th>1959-09-01</th>\n",
       "      <td>463.0</td>\n",
       "      <td>-96.0</td>\n",
       "      <td>-107.0</td>\n",
       "    </tr>\n",
       "    <tr>\n",
       "      <th>1959-10-01</th>\n",
       "      <td>407.0</td>\n",
       "      <td>-56.0</td>\n",
       "      <td>40.0</td>\n",
       "    </tr>\n",
       "    <tr>\n",
       "      <th>1959-11-01</th>\n",
       "      <td>362.0</td>\n",
       "      <td>-45.0</td>\n",
       "      <td>11.0</td>\n",
       "    </tr>\n",
       "    <tr>\n",
       "      <th>1959-12-01</th>\n",
       "      <td>405.0</td>\n",
       "      <td>43.0</td>\n",
       "      <td>88.0</td>\n",
       "    </tr>\n",
       "    <tr>\n",
       "      <th>1960-01-01</th>\n",
       "      <td>417.0</td>\n",
       "      <td>12.0</td>\n",
       "      <td>-31.0</td>\n",
       "    </tr>\n",
       "    <tr>\n",
       "      <th>1960-02-01</th>\n",
       "      <td>391.0</td>\n",
       "      <td>-26.0</td>\n",
       "      <td>-38.0</td>\n",
       "    </tr>\n",
       "    <tr>\n",
       "      <th>1960-03-01</th>\n",
       "      <td>419.0</td>\n",
       "      <td>28.0</td>\n",
       "      <td>54.0</td>\n",
       "    </tr>\n",
       "    <tr>\n",
       "      <th>1960-04-01</th>\n",
       "      <td>461.0</td>\n",
       "      <td>42.0</td>\n",
       "      <td>14.0</td>\n",
       "    </tr>\n",
       "    <tr>\n",
       "      <th>1960-05-01</th>\n",
       "      <td>472.0</td>\n",
       "      <td>11.0</td>\n",
       "      <td>-31.0</td>\n",
       "    </tr>\n",
       "    <tr>\n",
       "      <th>1960-06-01</th>\n",
       "      <td>535.0</td>\n",
       "      <td>63.0</td>\n",
       "      <td>52.0</td>\n",
       "    </tr>\n",
       "    <tr>\n",
       "      <th>1960-07-01</th>\n",
       "      <td>622.0</td>\n",
       "      <td>87.0</td>\n",
       "      <td>24.0</td>\n",
       "    </tr>\n",
       "    <tr>\n",
       "      <th>1960-08-01</th>\n",
       "      <td>606.0</td>\n",
       "      <td>-16.0</td>\n",
       "      <td>-103.0</td>\n",
       "    </tr>\n",
       "    <tr>\n",
       "      <th>1960-09-01</th>\n",
       "      <td>508.0</td>\n",
       "      <td>-98.0</td>\n",
       "      <td>-82.0</td>\n",
       "    </tr>\n",
       "    <tr>\n",
       "      <th>1960-10-01</th>\n",
       "      <td>461.0</td>\n",
       "      <td>-47.0</td>\n",
       "      <td>51.0</td>\n",
       "    </tr>\n",
       "    <tr>\n",
       "      <th>1960-11-01</th>\n",
       "      <td>390.0</td>\n",
       "      <td>-71.0</td>\n",
       "      <td>-24.0</td>\n",
       "    </tr>\n",
       "    <tr>\n",
       "      <th>1960-12-01</th>\n",
       "      <td>432.0</td>\n",
       "      <td>42.0</td>\n",
       "      <td>113.0</td>\n",
       "    </tr>\n",
       "  </tbody>\n",
       "</table>\n",
       "</div>"
      ],
      "text/plain": [
       "            Thousands of Passengers  First Diff  Second Diff\n",
       "Month                                                       \n",
       "1956-01-01                    284.0         6.0        -35.0\n",
       "1956-02-01                    277.0        -7.0        -13.0\n",
       "1956-03-01                    317.0        40.0         47.0\n",
       "1956-04-01                    313.0        -4.0        -44.0\n",
       "1956-05-01                    318.0         5.0          9.0\n",
       "1956-06-01                    374.0        56.0         51.0\n",
       "1956-07-01                    413.0        39.0        -17.0\n",
       "1956-08-01                    405.0        -8.0        -47.0\n",
       "1956-09-01                    355.0       -50.0        -42.0\n",
       "1956-10-01                    306.0       -49.0          1.0\n",
       "1956-11-01                    271.0       -35.0         14.0\n",
       "1956-12-01                    306.0        35.0         70.0\n",
       "1957-01-01                    315.0         9.0        -26.0\n",
       "1957-02-01                    301.0       -14.0        -23.0\n",
       "1957-03-01                    356.0        55.0         69.0\n",
       "1957-04-01                    348.0        -8.0        -63.0\n",
       "1957-05-01                    355.0         7.0         15.0\n",
       "1957-06-01                    422.0        67.0         60.0\n",
       "1957-07-01                    465.0        43.0        -24.0\n",
       "1957-08-01                    467.0         2.0        -41.0\n",
       "1957-09-01                    404.0       -63.0        -65.0\n",
       "1957-10-01                    347.0       -57.0          6.0\n",
       "1957-11-01                    305.0       -42.0         15.0\n",
       "1957-12-01                    336.0        31.0         73.0\n",
       "1958-01-01                    340.0         4.0        -27.0\n",
       "1958-02-01                    318.0       -22.0        -26.0\n",
       "1958-03-01                    362.0        44.0         66.0\n",
       "1958-04-01                    348.0       -14.0        -58.0\n",
       "1958-05-01                    363.0        15.0         29.0\n",
       "1958-06-01                    435.0        72.0         57.0\n",
       "1958-07-01                    491.0        56.0        -16.0\n",
       "1958-08-01                    505.0        14.0        -42.0\n",
       "1958-09-01                    404.0      -101.0       -115.0\n",
       "1958-10-01                    359.0       -45.0         56.0\n",
       "1958-11-01                    310.0       -49.0         -4.0\n",
       "1958-12-01                    337.0        27.0         76.0\n",
       "1959-01-01                    360.0        23.0         -4.0\n",
       "1959-02-01                    342.0       -18.0        -41.0\n",
       "1959-03-01                    406.0        64.0         82.0\n",
       "1959-04-01                    396.0       -10.0        -74.0\n",
       "1959-05-01                    420.0        24.0         34.0\n",
       "1959-06-01                    472.0        52.0         28.0\n",
       "1959-07-01                    548.0        76.0         24.0\n",
       "1959-08-01                    559.0        11.0        -65.0\n",
       "1959-09-01                    463.0       -96.0       -107.0\n",
       "1959-10-01                    407.0       -56.0         40.0\n",
       "1959-11-01                    362.0       -45.0         11.0\n",
       "1959-12-01                    405.0        43.0         88.0\n",
       "1960-01-01                    417.0        12.0        -31.0\n",
       "1960-02-01                    391.0       -26.0        -38.0\n",
       "1960-03-01                    419.0        28.0         54.0\n",
       "1960-04-01                    461.0        42.0         14.0\n",
       "1960-05-01                    472.0        11.0        -31.0\n",
       "1960-06-01                    535.0        63.0         52.0\n",
       "1960-07-01                    622.0        87.0         24.0\n",
       "1960-08-01                    606.0       -16.0       -103.0\n",
       "1960-09-01                    508.0       -98.0        -82.0\n",
       "1960-10-01                    461.0       -47.0         51.0\n",
       "1960-11-01                    390.0       -71.0        -24.0\n",
       "1960-12-01                    432.0        42.0        113.0"
      ]
     },
     "execution_count": 43,
     "metadata": {},
     "output_type": "execute_result"
    }
   ],
   "source": [
    "test_data"
   ]
  },
  {
   "cell_type": "code",
   "execution_count": 44,
   "id": "becbe9e8-8a0a-4eeb-940e-7bc1508b2dc4",
   "metadata": {},
   "outputs": [],
   "source": [
    "## create a ARIMA model\n",
    "from statsmodels.tsa.arima_model import ARIMA"
   ]
  },
  {
   "cell_type": "code",
   "execution_count": 45,
   "id": "e48533fa-4528-45e9-8035-0c1c4bfa7cd1",
   "metadata": {},
   "outputs": [
    {
     "data": {
      "text/html": [
       "<div>\n",
       "<style scoped>\n",
       "    .dataframe tbody tr th:only-of-type {\n",
       "        vertical-align: middle;\n",
       "    }\n",
       "\n",
       "    .dataframe tbody tr th {\n",
       "        vertical-align: top;\n",
       "    }\n",
       "\n",
       "    .dataframe thead th {\n",
       "        text-align: right;\n",
       "    }\n",
       "</style>\n",
       "<table border=\"1\" class=\"dataframe\">\n",
       "  <thead>\n",
       "    <tr style=\"text-align: right;\">\n",
       "      <th></th>\n",
       "      <th>Thousands of Passengers</th>\n",
       "      <th>First Diff</th>\n",
       "      <th>Second Diff</th>\n",
       "    </tr>\n",
       "    <tr>\n",
       "      <th>Month</th>\n",
       "      <th></th>\n",
       "      <th></th>\n",
       "      <th></th>\n",
       "    </tr>\n",
       "  </thead>\n",
       "  <tbody>\n",
       "    <tr>\n",
       "      <th>1949-01-01</th>\n",
       "      <td>112.0</td>\n",
       "      <td>NaN</td>\n",
       "      <td>NaN</td>\n",
       "    </tr>\n",
       "    <tr>\n",
       "      <th>1949-02-01</th>\n",
       "      <td>118.0</td>\n",
       "      <td>6.0</td>\n",
       "      <td>NaN</td>\n",
       "    </tr>\n",
       "    <tr>\n",
       "      <th>1949-03-01</th>\n",
       "      <td>132.0</td>\n",
       "      <td>14.0</td>\n",
       "      <td>8.0</td>\n",
       "    </tr>\n",
       "    <tr>\n",
       "      <th>1949-04-01</th>\n",
       "      <td>129.0</td>\n",
       "      <td>-3.0</td>\n",
       "      <td>-17.0</td>\n",
       "    </tr>\n",
       "    <tr>\n",
       "      <th>1949-05-01</th>\n",
       "      <td>121.0</td>\n",
       "      <td>-8.0</td>\n",
       "      <td>-5.0</td>\n",
       "    </tr>\n",
       "    <tr>\n",
       "      <th>...</th>\n",
       "      <td>...</td>\n",
       "      <td>...</td>\n",
       "      <td>...</td>\n",
       "    </tr>\n",
       "    <tr>\n",
       "      <th>1955-08-01</th>\n",
       "      <td>347.0</td>\n",
       "      <td>-17.0</td>\n",
       "      <td>-66.0</td>\n",
       "    </tr>\n",
       "    <tr>\n",
       "      <th>1955-09-01</th>\n",
       "      <td>312.0</td>\n",
       "      <td>-35.0</td>\n",
       "      <td>-18.0</td>\n",
       "    </tr>\n",
       "    <tr>\n",
       "      <th>1955-10-01</th>\n",
       "      <td>274.0</td>\n",
       "      <td>-38.0</td>\n",
       "      <td>-3.0</td>\n",
       "    </tr>\n",
       "    <tr>\n",
       "      <th>1955-11-01</th>\n",
       "      <td>237.0</td>\n",
       "      <td>-37.0</td>\n",
       "      <td>1.0</td>\n",
       "    </tr>\n",
       "    <tr>\n",
       "      <th>1955-12-01</th>\n",
       "      <td>278.0</td>\n",
       "      <td>41.0</td>\n",
       "      <td>78.0</td>\n",
       "    </tr>\n",
       "  </tbody>\n",
       "</table>\n",
       "<p>84 rows × 3 columns</p>\n",
       "</div>"
      ],
      "text/plain": [
       "            Thousands of Passengers  First Diff  Second Diff\n",
       "Month                                                       \n",
       "1949-01-01                    112.0         NaN          NaN\n",
       "1949-02-01                    118.0         6.0          NaN\n",
       "1949-03-01                    132.0        14.0          8.0\n",
       "1949-04-01                    129.0        -3.0        -17.0\n",
       "1949-05-01                    121.0        -8.0         -5.0\n",
       "...                             ...         ...          ...\n",
       "1955-08-01                    347.0       -17.0        -66.0\n",
       "1955-09-01                    312.0       -35.0        -18.0\n",
       "1955-10-01                    274.0       -38.0         -3.0\n",
       "1955-11-01                    237.0       -37.0          1.0\n",
       "1955-12-01                    278.0        41.0         78.0\n",
       "\n",
       "[84 rows x 3 columns]"
      ]
     },
     "execution_count": 45,
     "metadata": {},
     "output_type": "execute_result"
    }
   ],
   "source": [
    "train_data"
   ]
  },
  {
   "cell_type": "code",
   "execution_count": 48,
   "id": "85de4b90-8ad7-4466-82c6-711d821c13b4",
   "metadata": {},
   "outputs": [
    {
     "name": "stderr",
     "output_type": "stream",
     "text": [
      "C:\\Users\\Amar\\anaconda3\\lib\\site-packages\\statsmodels\\tsa\\arima_model.py:472: FutureWarning: \n",
      "statsmodels.tsa.arima_model.ARMA and statsmodels.tsa.arima_model.ARIMA have\n",
      "been deprecated in favor of statsmodels.tsa.arima.model.ARIMA (note the .\n",
      "between arima and model) and\n",
      "statsmodels.tsa.SARIMAX. These will be removed after the 0.12 release.\n",
      "\n",
      "statsmodels.tsa.arima.model.ARIMA makes use of the statespace framework and\n",
      "is both well tested and maintained.\n",
      "\n",
      "To silence this warning and continue using ARMA and ARIMA until they are\n",
      "removed, use:\n",
      "\n",
      "import warnings\n",
      "warnings.filterwarnings('ignore', 'statsmodels.tsa.arima_model.ARMA',\n",
      "                        FutureWarning)\n",
      "warnings.filterwarnings('ignore', 'statsmodels.tsa.arima_model.ARIMA',\n",
      "                        FutureWarning)\n",
      "\n",
      "  warnings.warn(ARIMA_DEPRECATION_WARN, FutureWarning)\n",
      "C:\\Users\\Amar\\anaconda3\\lib\\site-packages\\statsmodels\\tsa\\base\\tsa_model.py:524: ValueWarning: No frequency information was provided, so inferred frequency MS will be used.\n",
      "  warnings.warn('No frequency information was'\n",
      "C:\\Users\\Amar\\anaconda3\\lib\\site-packages\\statsmodels\\tsa\\base\\tsa_model.py:524: ValueWarning: No frequency information was provided, so inferred frequency MS will be used.\n",
      "  warnings.warn('No frequency information was'\n"
     ]
    }
   ],
   "source": [
    "model=ARIMA(airline_data['Thousands of Passengers'],order=(10,2,0))"
   ]
  },
  {
   "cell_type": "code",
   "execution_count": 51,
   "id": "b32877f1-faeb-424c-a0b7-b72998dabfdc",
   "metadata": {},
   "outputs": [],
   "source": [
    "fit=model.fit()"
   ]
  },
  {
   "cell_type": "code",
   "execution_count": 52,
   "id": "6506f68b-5e0e-49dd-8d0a-5562add03fcb",
   "metadata": {},
   "outputs": [
    {
     "data": {
      "text/html": [
       "<table class=\"simpletable\">\n",
       "<caption>ARIMA Model Results</caption>\n",
       "<tr>\n",
       "  <th>Dep. Variable:</th> <td>D2.Thousands of Passengers</td> <th>  No. Observations:  </th>    <td>142</td>  \n",
       "</tr>\n",
       "<tr>\n",
       "  <th>Model:</th>               <td>ARIMA(10, 2, 0)</td>      <th>  Log Likelihood     </th> <td>-661.051</td>\n",
       "</tr>\n",
       "<tr>\n",
       "  <th>Method:</th>                  <td>css-mle</td>          <th>  S.D. of innovations</th>  <td>24.780</td> \n",
       "</tr>\n",
       "<tr>\n",
       "  <th>Date:</th>               <td>Wed, 08 Jun 2022</td>      <th>  AIC                </th> <td>1346.101</td>\n",
       "</tr>\n",
       "<tr>\n",
       "  <th>Time:</th>                   <td>04:25:31</td>          <th>  BIC                </th> <td>1381.571</td>\n",
       "</tr>\n",
       "<tr>\n",
       "  <th>Sample:</th>                <td>03-01-1949</td>         <th>  HQIC               </th> <td>1360.515</td>\n",
       "</tr>\n",
       "<tr>\n",
       "  <th></th>                      <td>- 12-01-1960</td>        <th>                     </th>     <td> </td>   \n",
       "</tr>\n",
       "</table>\n",
       "<table class=\"simpletable\">\n",
       "<tr>\n",
       "                  <td></td>                     <th>coef</th>     <th>std err</th>      <th>z</th>      <th>P>|z|</th>  <th>[0.025</th>    <th>0.975]</th>  \n",
       "</tr>\n",
       "<tr>\n",
       "  <th>const</th>                             <td>    0.0200</td> <td>    0.350</td> <td>    0.057</td> <td> 0.954</td> <td>   -0.666</td> <td>    0.706</td>\n",
       "</tr>\n",
       "<tr>\n",
       "  <th>ar.L1.D2.Thousands of Passengers</th>  <td>   -0.3721</td> <td>    0.066</td> <td>   -5.662</td> <td> 0.000</td> <td>   -0.501</td> <td>   -0.243</td>\n",
       "</tr>\n",
       "<tr>\n",
       "  <th>ar.L2.D2.Thousands of Passengers</th>  <td>   -0.7445</td> <td>    0.069</td> <td>  -10.731</td> <td> 0.000</td> <td>   -0.880</td> <td>   -0.609</td>\n",
       "</tr>\n",
       "<tr>\n",
       "  <th>ar.L3.D2.Thousands of Passengers</th>  <td>   -0.3583</td> <td>    0.075</td> <td>   -4.796</td> <td> 0.000</td> <td>   -0.505</td> <td>   -0.212</td>\n",
       "</tr>\n",
       "<tr>\n",
       "  <th>ar.L4.D2.Thousands of Passengers</th>  <td>   -0.7950</td> <td>    0.080</td> <td>   -9.952</td> <td> 0.000</td> <td>   -0.952</td> <td>   -0.638</td>\n",
       "</tr>\n",
       "<tr>\n",
       "  <th>ar.L5.D2.Thousands of Passengers</th>  <td>   -0.3607</td> <td>    0.090</td> <td>   -4.013</td> <td> 0.000</td> <td>   -0.537</td> <td>   -0.185</td>\n",
       "</tr>\n",
       "<tr>\n",
       "  <th>ar.L6.D2.Thousands of Passengers</th>  <td>   -0.6673</td> <td>    0.088</td> <td>   -7.569</td> <td> 0.000</td> <td>   -0.840</td> <td>   -0.495</td>\n",
       "</tr>\n",
       "<tr>\n",
       "  <th>ar.L7.D2.Thousands of Passengers</th>  <td>   -0.2609</td> <td>    0.081</td> <td>   -3.220</td> <td> 0.001</td> <td>   -0.420</td> <td>   -0.102</td>\n",
       "</tr>\n",
       "<tr>\n",
       "  <th>ar.L8.D2.Thousands of Passengers</th>  <td>   -0.6880</td> <td>    0.076</td> <td>   -9.051</td> <td> 0.000</td> <td>   -0.837</td> <td>   -0.539</td>\n",
       "</tr>\n",
       "<tr>\n",
       "  <th>ar.L9.D2.Thousands of Passengers</th>  <td>   -0.2601</td> <td>    0.072</td> <td>   -3.590</td> <td> 0.000</td> <td>   -0.402</td> <td>   -0.118</td>\n",
       "</tr>\n",
       "<tr>\n",
       "  <th>ar.L10.D2.Thousands of Passengers</th> <td>   -0.6414</td> <td>    0.066</td> <td>   -9.667</td> <td> 0.000</td> <td>   -0.771</td> <td>   -0.511</td>\n",
       "</tr>\n",
       "</table>\n",
       "<table class=\"simpletable\">\n",
       "<caption>Roots</caption>\n",
       "<tr>\n",
       "    <td></td>    <th>            Real</th>  <th>         Imaginary</th> <th>         Modulus</th>  <th>        Frequency</th>\n",
       "</tr>\n",
       "<tr>\n",
       "  <th>AR.1</th>  <td>           0.8901</td> <td>          -0.5373j</td> <td>           1.0397</td> <td>          -0.0864</td>\n",
       "</tr>\n",
       "<tr>\n",
       "  <th>AR.2</th>  <td>           0.8901</td> <td>          +0.5373j</td> <td>           1.0397</td> <td>           0.0864</td>\n",
       "</tr>\n",
       "<tr>\n",
       "  <th>AR.3</th>  <td>           0.4938</td> <td>          -0.9038j</td> <td>           1.0299</td> <td>          -0.1704</td>\n",
       "</tr>\n",
       "<tr>\n",
       "  <th>AR.4</th>  <td>           0.4938</td> <td>          +0.9038j</td> <td>           1.0299</td> <td>           0.1704</td>\n",
       "</tr>\n",
       "<tr>\n",
       "  <th>AR.5</th>  <td>          -0.9235</td> <td>          -0.4485j</td> <td>           1.0267</td> <td>          -0.4280</td>\n",
       "</tr>\n",
       "<tr>\n",
       "  <th>AR.6</th>  <td>          -0.9235</td> <td>          +0.4485j</td> <td>           1.0267</td> <td>           0.4280</td>\n",
       "</tr>\n",
       "<tr>\n",
       "  <th>AR.7</th>  <td>          -0.5867</td> <td>          -0.8689j</td> <td>           1.0484</td> <td>          -0.3445</td>\n",
       "</tr>\n",
       "<tr>\n",
       "  <th>AR.8</th>  <td>          -0.5867</td> <td>          +0.8689j</td> <td>           1.0484</td> <td>           0.3445</td>\n",
       "</tr>\n",
       "<tr>\n",
       "  <th>AR.9</th>  <td>          -0.0765</td> <td>          -1.0806j</td> <td>           1.0833</td> <td>          -0.2612</td>\n",
       "</tr>\n",
       "<tr>\n",
       "  <th>AR.10</th> <td>          -0.0765</td> <td>          +1.0806j</td> <td>           1.0833</td> <td>           0.2612</td>\n",
       "</tr>\n",
       "</table>"
      ],
      "text/plain": [
       "<class 'statsmodels.iolib.summary.Summary'>\n",
       "\"\"\"\n",
       "                                 ARIMA Model Results                                  \n",
       "======================================================================================\n",
       "Dep. Variable:     D2.Thousands of Passengers   No. Observations:                  142\n",
       "Model:                        ARIMA(10, 2, 0)   Log Likelihood                -661.051\n",
       "Method:                               css-mle   S.D. of innovations             24.780\n",
       "Date:                        Wed, 08 Jun 2022   AIC                           1346.101\n",
       "Time:                                04:25:31   BIC                           1381.571\n",
       "Sample:                            03-01-1949   HQIC                          1360.515\n",
       "                                 - 12-01-1960                                         \n",
       "=====================================================================================================\n",
       "                                        coef    std err          z      P>|z|      [0.025      0.975]\n",
       "-----------------------------------------------------------------------------------------------------\n",
       "const                                 0.0200      0.350      0.057      0.954      -0.666       0.706\n",
       "ar.L1.D2.Thousands of Passengers     -0.3721      0.066     -5.662      0.000      -0.501      -0.243\n",
       "ar.L2.D2.Thousands of Passengers     -0.7445      0.069    -10.731      0.000      -0.880      -0.609\n",
       "ar.L3.D2.Thousands of Passengers     -0.3583      0.075     -4.796      0.000      -0.505      -0.212\n",
       "ar.L4.D2.Thousands of Passengers     -0.7950      0.080     -9.952      0.000      -0.952      -0.638\n",
       "ar.L5.D2.Thousands of Passengers     -0.3607      0.090     -4.013      0.000      -0.537      -0.185\n",
       "ar.L6.D2.Thousands of Passengers     -0.6673      0.088     -7.569      0.000      -0.840      -0.495\n",
       "ar.L7.D2.Thousands of Passengers     -0.2609      0.081     -3.220      0.001      -0.420      -0.102\n",
       "ar.L8.D2.Thousands of Passengers     -0.6880      0.076     -9.051      0.000      -0.837      -0.539\n",
       "ar.L9.D2.Thousands of Passengers     -0.2601      0.072     -3.590      0.000      -0.402      -0.118\n",
       "ar.L10.D2.Thousands of Passengers    -0.6414      0.066     -9.667      0.000      -0.771      -0.511\n",
       "                                    Roots                                     \n",
       "==============================================================================\n",
       "                   Real          Imaginary           Modulus         Frequency\n",
       "------------------------------------------------------------------------------\n",
       "AR.1             0.8901           -0.5373j            1.0397           -0.0864\n",
       "AR.2             0.8901           +0.5373j            1.0397            0.0864\n",
       "AR.3             0.4938           -0.9038j            1.0299           -0.1704\n",
       "AR.4             0.4938           +0.9038j            1.0299            0.1704\n",
       "AR.5            -0.9235           -0.4485j            1.0267           -0.4280\n",
       "AR.6            -0.9235           +0.4485j            1.0267            0.4280\n",
       "AR.7            -0.5867           -0.8689j            1.0484           -0.3445\n",
       "AR.8            -0.5867           +0.8689j            1.0484            0.3445\n",
       "AR.9            -0.0765           -1.0806j            1.0833           -0.2612\n",
       "AR.10           -0.0765           +1.0806j            1.0833            0.2612\n",
       "------------------------------------------------------------------------------\n",
       "\"\"\""
      ]
     },
     "execution_count": 52,
     "metadata": {},
     "output_type": "execute_result"
    }
   ],
   "source": [
    "fit.summary()"
   ]
  },
  {
   "cell_type": "code",
   "execution_count": 53,
   "id": "d0694b9c-f291-4934-9c5e-61d7bc5e3c31",
   "metadata": {},
   "outputs": [
    {
     "name": "stdout",
     "output_type": "stream",
     "text": [
      "1956-01-01 00:00:00\n",
      "1960-12-01 00:00:00\n"
     ]
    }
   ],
   "source": [
    "## prediction\n",
    "pred_start_date=test_data.index[0]\n",
    "pred_end_date=test_data.index[-1]\n",
    "print(pred_start_date)\n",
    "print(pred_end_date)"
   ]
  },
  {
   "cell_type": "code",
   "execution_count": 55,
   "id": "db04d3b3-f750-4110-a565-849ea0a5bd5a",
   "metadata": {},
   "outputs": [],
   "source": [
    "pred=fit.predict(start=pred_start_date,end=pred_end_date)\n",
    "residuals=test_data['Thousands of Passengers']-pred"
   ]
  },
  {
   "cell_type": "code",
   "execution_count": 56,
   "id": "5d4e9459-4f00-451f-8795-8d209c7029f5",
   "metadata": {},
   "outputs": [
    {
     "data": {
      "text/plain": [
       "Month\n",
       "1956-01-01    307.175456\n",
       "1956-02-01    279.896391\n",
       "1956-03-01    297.964791\n",
       "1956-04-01    347.668047\n",
       "1956-05-01    305.047015\n",
       "1956-06-01    341.585009\n",
       "1956-07-01    440.824234\n",
       "1956-08-01    455.912335\n",
       "1956-09-01    359.108154\n",
       "1956-10-01    307.840764\n",
       "1956-11-01    229.050354\n",
       "1956-12-01    263.276424\n",
       "1957-01-01    328.221598\n",
       "1957-02-01    307.390749\n",
       "1957-03-01    331.583347\n",
       "1957-04-01    393.470757\n",
       "1957-05-01    336.720468\n",
       "1957-06-01    387.602218\n",
       "1957-07-01    506.224798\n",
       "1957-08-01    513.105374\n",
       "1957-09-01    430.792703\n",
       "1957-10-01    334.951156\n",
       "1957-11-01    264.973018\n",
       "1957-12-01    285.180808\n",
       "1958-01-01    351.727924\n",
       "1958-02-01    320.033602\n",
       "1958-03-01    326.986037\n",
       "1958-04-01    397.923543\n",
       "1958-05-01    326.777281\n",
       "1958-06-01    409.283414\n",
       "1958-07-01    527.208148\n",
       "1958-08-01    563.026531\n",
       "1958-09-01    446.183834\n",
       "1958-10-01    335.286681\n",
       "1958-11-01    263.433675\n",
       "1958-12-01    302.896915\n",
       "1959-01-01    350.068826\n",
       "1959-02-01    375.937205\n",
       "1959-03-01    366.608985\n",
       "1959-04-01    464.270214\n",
       "1959-05-01    374.565165\n",
       "1959-06-01    456.137247\n",
       "1959-07-01    562.708323\n",
       "1959-08-01    630.346460\n",
       "1959-09-01    525.399825\n",
       "1959-10-01    353.304555\n",
       "1959-11-01    349.556118\n",
       "1959-12-01    329.059199\n",
       "1960-01-01    443.699268\n",
       "1960-02-01    385.539510\n",
       "1960-03-01    393.601479\n",
       "1960-04-01    493.748043\n",
       "1960-05-01    453.414581\n",
       "1960-06-01    531.322535\n",
       "1960-07-01    604.005836\n",
       "1960-08-01    728.635897\n",
       "1960-09-01    521.187093\n",
       "1960-10-01    438.108126\n",
       "1960-11-01    339.086500\n",
       "1960-12-01    384.217708\n",
       "dtype: float64"
      ]
     },
     "execution_count": 56,
     "metadata": {},
     "output_type": "execute_result"
    }
   ],
   "source": [
    "residuals"
   ]
  },
  {
   "cell_type": "code",
   "execution_count": 57,
   "id": "4800b759-d277-46f5-b162-8560bcfb7b85",
   "metadata": {},
   "outputs": [
    {
     "data": {
      "text/plain": [
       "<AxesSubplot:ylabel='Density'>"
      ]
     },
     "execution_count": 57,
     "metadata": {},
     "output_type": "execute_result"
    },
    {
     "data": {
      "image/png": "[encoded data removed]",
      "text/plain": [
       "<Figure size 432x288 with 1 Axes>"
      ]
     },
     "metadata": {
      "needs_background": "light"
     },
     "output_type": "display_data"
    }
   ],
   "source": [
    "fit.resid.plot(kind='kde')"
   ]
  },
  {
   "cell_type": "code",
   "execution_count": null,
   "id": "114ac546-48c8-4f75-8f20-aef41a7f509d",
   "metadata": {},
   "outputs": [],
   "source": []
  },
  {
   "cell_type": "code",
   "execution_count": null,
   "id": "e8ae145f-f684-473a-bb90-0248d3e571a0",
   "metadata": {},
   "outputs": [],
   "source": []
  },
  {
   "cell_type": "code",
   "execution_count": null,
   "id": "78f2f298-91c8-4488-9f43-fd587ecf2549",
   "metadata": {},
   "outputs": [],
   "source": []
  },
  {
   "cell_type": "code",
   "execution_count": null,
   "id": "8674bee5-42b1-4c17-b1d9-1142697bad6e",
   "metadata": {},
   "outputs": [],
   "source": []
  },
  {
   "cell_type": "code",
   "execution_count": null,
   "id": "68c63925-3f7b-4076-8a2c-f7a377ec6232",
   "metadata": {},
   "outputs": [],
   "source": []
  },
  {
   "cell_type": "code",
   "execution_count": null,
   "id": "0d1ee9d4-91fb-42eb-a144-97638cb6f608",
   "metadata": {},
   "outputs": [],
   "source": []
  },
  {
   "cell_type": "code",
   "execution_count": null,
   "id": "af5a5565-e08c-411e-b35c-eec29082c9b4",
   "metadata": {},
   "outputs": [],
   "source": []
  },
  {
   "cell_type": "code",
   "execution_count": null,
   "id": "552e92cf-2235-4381-9a05-df6e43634352",
   "metadata": {},
   "outputs": [],
   "source": []
  }
 ],
 "metadata": {
  "kernelspec": {
   "display_name": "Python 3",
   "language": "python",
   "name": "python3"
  },
  "language_info": {
   "codemirror_mode": {
    "name": "ipython",
    "version": 3
   },
   "file_extension": ".py",
   "mimetype": "text/x-python",
   "name": "python",
   "nbconvert_exporter": "python",
   "pygments_lexer": "ipython3",
   "version": "3.8.8"
  }
 },
 "nbformat": 4,
 "nbformat_minor": 5
}
