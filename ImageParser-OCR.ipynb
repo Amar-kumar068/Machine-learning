{
 "cells": [
  {
   "cell_type": "code",
   "execution_count": 1,
   "id": "1412bdd8",
   "metadata": {},
   "outputs": [],
   "source": [
    "# !pip install pdf2image"
   ]
  },
  {
   "cell_type": "code",
   "execution_count": 2,
   "id": "70e26e0c",
   "metadata": {},
   "outputs": [],
   "source": [
    "# !pip install pytesseract"
   ]
  },
  {
   "cell_type": "code",
   "execution_count": 3,
   "id": "2d053cdf",
   "metadata": {},
   "outputs": [],
   "source": [
    "import pytesseract\n",
    "pytesseract.pytesseract.tesseract_cmd=r'C:\\Program Files\\Tesseract-OCR\\tesseract.exe'"
   ]
  },
  {
   "cell_type": "code",
   "execution_count": 4,
   "id": "270bf729",
   "metadata": {},
   "outputs": [],
   "source": [
    "import cv2"
   ]
  },
  {
   "cell_type": "code",
   "execution_count": 6,
   "id": "8b2306ab",
   "metadata": {},
   "outputs": [],
   "source": [
    "img=cv2.imread('opd_receipt.jpeg')\n",
    "cv2.imshow('sample image', img)\n",
    "cv2.waitKey(0)\n",
    "cv2.destroyAllWindows()\n"
   ]
  },
  {
   "cell_type": "code",
   "execution_count": 7,
   "id": "d210e470",
   "metadata": {},
   "outputs": [],
   "source": [
    "text=pytesseract.image_to_string(img)"
   ]
  },
  {
   "cell_type": "code",
   "execution_count": 8,
   "id": "35ced2f4",
   "metadata": {},
   "outputs": [
    {
     "data": {
      "text/plain": [
       "'ney Ri Suraksha\\n\\nDIAGNOSTICS\\nBooking Code : KES/05-05-2022/62209 if\\n\\nName : Mr. AMAR KUMAR Booking Date\\n\\n: 06/06/2022\\n; DUMDUM PARK Gender ; Male\\nkolkata - Leal Age : 26 Years 0 Month 0 Day\\nNo. é nent “ Ref. Doctor : DINESH KUMAR JAISWAL\\n| Customer : General\\n$r. Ne Services Booked Department Code Charges Appt.Date Report Date\\n4 OPD REGISTRATION FEE (1 Polyclinic 100.00 06/05/2022\\nBill(Rs.) 4100.00\\n(ONE HUNDRED RUPEES ONLY)\\nCASH 100.00\\nBalance (Rs.) 0.00\\n(NIL)\\nimportant : Ifyou face any PROBLEM please contact the MANAGER / FLOOR MANAGER\\n\\nDelivery Time : 06:00:00 PM - 08:00:00 PM( On Delivery Date ),02:00:00 PM - 03:00:00 PM( Sundays & Holidays )\\nDelivery Date is valid only if Sample given/Test is done on Booking Date before 03:00:00 PM\\nBy : Shima Barman [Print Date & Tim€5/05/2022 16:31:47\\nDownload : For downloading reports visit www.surakshanet.com UserName: $R6220976 ,Password: W5367039\\n* No refund after 60 days of Booking date/Billing date.\\n\\n- BB-99 Prafulla Kanan. KOLKATA WB. Pin Code - 700101 [GST No 1SAAJCS4356F 123 } Help Line No 033-66191000 | Email info@suraksnanet com\\n'"
      ]
     },
     "execution_count": 8,
     "metadata": {},
     "output_type": "execute_result"
    }
   ],
   "source": [
    "text"
   ]
  },
  {
   "cell_type": "code",
   "execution_count": null,
   "id": "d720176b",
   "metadata": {},
   "outputs": [],
   "source": []
  },
  {
   "cell_type": "code",
   "execution_count": null,
   "id": "9e0e39a3",
   "metadata": {},
   "outputs": [],
   "source": [
    "# from pdf2image import convert_from_path\n",
    "# from pytesseract import image_to_string\n",
    "# from PIL import Image"
   ]
  },
  {
   "cell_type": "code",
   "execution_count": null,
   "id": "73a078d8",
   "metadata": {},
   "outputs": [],
   "source": []
  },
  {
   "cell_type": "code",
   "execution_count": null,
   "id": "f1c3a0e6",
   "metadata": {},
   "outputs": [],
   "source": []
  },
  {
   "cell_type": "code",
   "execution_count": null,
   "id": "c34fff72",
   "metadata": {},
   "outputs": [],
   "source": []
  },
  {
   "cell_type": "code",
   "execution_count": null,
   "id": "a215a589",
   "metadata": {},
   "outputs": [],
   "source": []
  },
  {
   "cell_type": "code",
   "execution_count": null,
   "id": "ee192437",
   "metadata": {},
   "outputs": [],
   "source": []
  },
  {
   "cell_type": "code",
   "execution_count": null,
   "id": "85269c80",
   "metadata": {},
   "outputs": [],
   "source": []
  },
  {
   "cell_type": "code",
   "execution_count": null,
   "id": "877de780",
   "metadata": {},
   "outputs": [],
   "source": []
  },
  {
   "cell_type": "code",
   "execution_count": null,
   "id": "f77cc973",
   "metadata": {},
   "outputs": [],
   "source": []
  }
 ],
 "metadata": {
  "kernelspec": {
   "display_name": "Python 3",
   "language": "python",
   "name": "python3"
  },
  "language_info": {
   "codemirror_mode": {
    "name": "ipython",
    "version": 3
   },
   "file_extension": ".py",
   "mimetype": "text/x-python",
   "name": "python",
   "nbconvert_exporter": "python",
   "pygments_lexer": "ipython3",
   "version": "3.8.8"
  }
 },
 "nbformat": 4,
 "nbformat_minor": 5
}
