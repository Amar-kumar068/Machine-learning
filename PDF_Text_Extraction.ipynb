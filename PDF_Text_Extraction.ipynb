{
 "cells": [
  {
   "cell_type": "code",
   "execution_count": 1,
   "id": "ccf379d0",
   "metadata": {},
   "outputs": [
    {
     "name": "stdout",
     "output_type": "stream",
     "text": [
      "Requirement already satisfied: PyPDF2 in c:\\users\\amar\\anaconda3\\lib\\site-packages (2.1.0)\n",
      "Requirement already satisfied: typing-extensions in c:\\users\\amar\\anaconda3\\lib\\site-packages (from PyPDF2) (3.7.4.3)\n"
     ]
    }
   ],
   "source": [
    "!pip install PyPDF2"
   ]
  },
  {
   "cell_type": "code",
   "execution_count": 3,
   "id": "ac8a2852",
   "metadata": {},
   "outputs": [],
   "source": [
    "import PyPDF2"
   ]
  },
  {
   "cell_type": "code",
   "execution_count": 5,
   "id": "1cb27cc8",
   "metadata": {},
   "outputs": [],
   "source": [
    "a=PyPDF2.PdfFileReader(r'C:\\Users\\Amar\\OneDrive\\Documents\\puja\\Puja_Resume.pdf')"
   ]
  },
  {
   "cell_type": "code",
   "execution_count": 7,
   "id": "0864c36d",
   "metadata": {},
   "outputs": [
    {
     "name": "stdout",
     "output_type": "stream",
     "text": [
      "{'/Title': 'Neeraj Kumar', '/Author': 'Neeraj Kumar', '/Keywords': 'DAEqgyb-rBQ,BAERBZtyl2M', '/Creator': 'Microsoft® Word 2016', '/CreationDate': \"D:20220516154546+00'00'\", '/Producer': 'www.ilovepdf.com', '/ModDate': 'D:20220516154546Z'}\n"
     ]
    }
   ],
   "source": [
    "print(a.documentInfo)"
   ]
  },
  {
   "cell_type": "code",
   "execution_count": 9,
   "id": "96385a90",
   "metadata": {},
   "outputs": [
    {
     "name": "stdout",
     "output_type": "stream",
     "text": [
      "1\n"
     ]
    }
   ],
   "source": [
    "print(a.getNumPages())"
   ]
  },
  {
   "cell_type": "code",
   "execution_count": 14,
   "id": "6ead9103",
   "metadata": {},
   "outputs": [
    {
     "name": "stdout",
     "output_type": "stream",
     "text": [
      "{'/Type': '/Page', '/MediaBox': [0, 0, 595.44, 842.4], '/Resources': {'/ExtGState': {'/GS5': IndirectObject(6, 0), '/GS8': IndirectObject(7, 0)}, '/Font': {'/F1': IndirectObject(8, 0), '/F2': IndirectObject(11, 0), '/F3': IndirectObject(14, 0)}, '/ProcSet': ['/PDF', '/Text', '/ImageB', '/ImageC', '/ImageI']}, '/Annots': [IndirectObject(18, 0)], '/Contents': IndirectObject(24, 0), '/Group': {'/Type': '/Group', '/S': '/Transparency', '/CS': '/DeviceRGB'}, '/Tabs': '/S', '/StructParents': 1, '/Parent': IndirectObject(2, 0)}\n"
     ]
    }
   ],
   "source": [
    "print(a.getPage(0))"
   ]
  },
  {
   "cell_type": "code",
   "execution_count": 15,
   "id": "c5f2c632",
   "metadata": {},
   "outputs": [
    {
     "data": {
      "text/plain": [
       "'IT ANALYST\\n \\n \\n \\n\\n \\n\\n \\n \\n\\n \\n\\n \\n\\n \\n\\n \\n\\n \\n\\n \\n\\n \\n\\nPROFESSIONAL SUMMARY\\n  \\n\\n \\n\\n-\\nEnthusiastic team member with around 4.\\n8\\n \\nyears of \\n\\nexperience\\n \\nin\\n \\ntesting\\n \\nmodels\\n \\nincluding\\n \\nAgile\\n \\nand\\n \\nWaterfall.\\n \\n\\n-\\nExcellent\\n \\nin\\n \\nsoftware\\n \\ntesting\\n \\nlife\\n \\ncycle\\n \\nincluding\\n \\ntest\\n \\nplan, \\n\\ntest strategy, test case creation, test execution, test \\n\\nreporting,\\n \\ndefect\\n \\nmaintenance\\n \\nand\\n \\ntest\\n \\nclosure\\n \\nreports.\\n \\n\\n \\n\\n \\n\\nSKILLS\\n \\n\\n \\n\\nETL Testing\\n \\n\\nSQL\\n \\n\\n \\n\\nDatabases \\n-\\n \\n\\nSQL Developer, Microsoft SQL Server Management Studio, \\n\\nTOAD for Oracle\\n,\\n \\n\\nAWS Athena\\n \\n\\n \\n\\nApplications\\n-\\n \\n\\nMicrosoft\\n \\nOffice\\n \\nSuite:\\n \\nWord,\\n \\nExcel,\\n \\nOutlook,\\n \\nPowerPoint \\n\\nRally\\n \\n\\nFITNESSE \\n\\nRALLY\\n \\n\\nDATA STAGE\\n \\n\\n \\n\\n \\n\\nREACH ME AT:\\n \\n\\n \\n \\npuja.jsr05@gmail.com\\n \\n\\n  \\nCell:\\n \\n+91 7978304960\\n \\n\\n \\n\\n \\n\\nCERTIFICATIONS\\n \\n\\n \\n\\n-\\nAWS Cloud \\nPractitioner\\n-\\nUdemy 2021\\n \\n\\n-\\nSQL Data Analyst\\n-\\nUdemy 2020\\n \\nPROFESSIONAL HISTORY\\n  \\n\\n \\n\\nIT\\n \\nANALYST\\n \\n\\nTata Consultancy Services | SEPT 2017 \\n-\\n \\npresent\\n \\n\\n-\\nWorking as a ETL Tester for 4+ years.\\n  \\n\\n-\\nFacilitated various disability and leaves report to more \\n\\nthan 10 plus \\nC\\nl\\ni\\nents.\\n \\n\\n-\\nResponsible\\n \\nfor\\n \\nmaintaining\\n \\nall\\n \\nthe\\n \\ntest\\n \\nreport,\\n \\ndaily\\n \\n&\\n \\n\\nweekly\\n \\nstatus report.\\n \\n\\n-\\nHave strong expertise with test management tools like \\nRally.\\n \\n\\n-\\nWorked effectively as a team, supporting other team \\n\\nmembers in achieving project/ business objectives.\\n \\n\\n-\\n \\nExperience\\n \\nin\\n \\nFunctional,\\n \\nSystem,\\n \\nand\\n \\nRegression\\n \\ntesting.\\n \\n\\n \\n\\n \\n\\n \\n\\n \\n\\nACCOMPLISHMENTS\\n  \\n\\n-\\n \\nReceived on the spot\\n \\naward.\\n \\n\\n-\\n \\nReceived\\n \\nmany\\n \\nclient\\n \\nappreciation\\n \\nafter\\n \\ndelivery.\\n \\n\\n-\\n \\nCleared TCS Internal ELEVATE WINGS Exam\\n \\n\\n \\n\\n \\n\\n \\n\\n \\n\\n \\n\\n \\n\\n \\n\\n \\n\\n \\n\\nACADEMIC BACKGROUND\\n  \\n\\n \\n\\n \\n\\nElectronics and Telecommunication \\nEngineering\\n \\n\\nBTECH | MAY 2013 \\n-\\n \\nMAR 2017\\n \\n\\n \\n\\nBTECH in ENTCE\\n \\n\\n-\\n \\nCompleted\\n \\nmy\\n \\n4\\n \\nyears\\n \\nEngineering\\n \\nfrom\\n \\nOrissa\\n \\n\\nEngineering \\nCollege\\n \\nP U J A\\n \\n\\nK U M A R\\n \\nI\\n '"
      ]
     },
     "execution_count": 15,
     "metadata": {},
     "output_type": "execute_result"
    }
   ],
   "source": [
    "##extracting text\n",
    "\n",
    "a.getPage(0).extractText()"
   ]
  },
  {
   "cell_type": "code",
   "execution_count": 20,
   "id": "417e8e69",
   "metadata": {},
   "outputs": [],
   "source": [
    "str=\" \"\n",
    "\n",
    "str +=a.getPage(0).extractText()"
   ]
  },
  {
   "cell_type": "code",
   "execution_count": 21,
   "id": "4dfa6e85",
   "metadata": {},
   "outputs": [],
   "source": [
    "with open(\"extractedText.txt\",'w') as f:\n",
    "    f.write(str)"
   ]
  },
  {
   "cell_type": "code",
   "execution_count": 23,
   "id": "f036289c",
   "metadata": {},
   "outputs": [
    {
     "data": {
      "text/plain": [
       "' IT ANALYST\\n \\n \\n \\n\\n \\n\\n \\n \\n\\n \\n\\n \\n\\n \\n\\n \\n\\n \\n\\n \\n\\n \\n\\nPROFESSIONAL SUMMARY\\n  \\n\\n \\n\\n-\\nEnthusiastic team member with around 4.\\n8\\n \\nyears of \\n\\nexperience\\n \\nin\\n \\ntesting\\n \\nmodels\\n \\nincluding\\n \\nAgile\\n \\nand\\n \\nWaterfall.\\n \\n\\n-\\nExcellent\\n \\nin\\n \\nsoftware\\n \\ntesting\\n \\nlife\\n \\ncycle\\n \\nincluding\\n \\ntest\\n \\nplan, \\n\\ntest strategy, test case creation, test execution, test \\n\\nreporting,\\n \\ndefect\\n \\nmaintenance\\n \\nand\\n \\ntest\\n \\nclosure\\n \\nreports.\\n \\n\\n \\n\\n \\n\\nSKILLS\\n \\n\\n \\n\\nETL Testing\\n \\n\\nSQL\\n \\n\\n \\n\\nDatabases \\n-\\n \\n\\nSQL Developer, Microsoft SQL Server Management Studio, \\n\\nTOAD for Oracle\\n,\\n \\n\\nAWS Athena\\n \\n\\n \\n\\nApplications\\n-\\n \\n\\nMicrosoft\\n \\nOffice\\n \\nSuite:\\n \\nWord,\\n \\nExcel,\\n \\nOutlook,\\n \\nPowerPoint \\n\\nRally\\n \\n\\nFITNESSE \\n\\nRALLY\\n \\n\\nDATA STAGE\\n \\n\\n \\n\\n \\n\\nREACH ME AT:\\n \\n\\n \\n \\npuja.jsr05@gmail.com\\n \\n\\n  \\nCell:\\n \\n+91 7978304960\\n \\n\\n \\n\\n \\n\\nCERTIFICATIONS\\n \\n\\n \\n\\n-\\nAWS Cloud \\nPractitioner\\n-\\nUdemy 2021\\n \\n\\n-\\nSQL Data Analyst\\n-\\nUdemy 2020\\n \\nPROFESSIONAL HISTORY\\n  \\n\\n \\n\\nIT\\n \\nANALYST\\n \\n\\nTata Consultancy Services | SEPT 2017 \\n-\\n \\npresent\\n \\n\\n-\\nWorking as a ETL Tester for 4+ years.\\n  \\n\\n-\\nFacilitated various disability and leaves report to more \\n\\nthan 10 plus \\nC\\nl\\ni\\nents.\\n \\n\\n-\\nResponsible\\n \\nfor\\n \\nmaintaining\\n \\nall\\n \\nthe\\n \\ntest\\n \\nreport,\\n \\ndaily\\n \\n&\\n \\n\\nweekly\\n \\nstatus report.\\n \\n\\n-\\nHave strong expertise with test management tools like \\nRally.\\n \\n\\n-\\nWorked effectively as a team, supporting other team \\n\\nmembers in achieving project/ business objectives.\\n \\n\\n-\\n \\nExperience\\n \\nin\\n \\nFunctional,\\n \\nSystem,\\n \\nand\\n \\nRegression\\n \\ntesting.\\n \\n\\n \\n\\n \\n\\n \\n\\n \\n\\nACCOMPLISHMENTS\\n  \\n\\n-\\n \\nReceived on the spot\\n \\naward.\\n \\n\\n-\\n \\nReceived\\n \\nmany\\n \\nclient\\n \\nappreciation\\n \\nafter\\n \\ndelivery.\\n \\n\\n-\\n \\nCleared TCS Internal ELEVATE WINGS Exam\\n \\n\\n \\n\\n \\n\\n \\n\\n \\n\\n \\n\\n \\n\\n \\n\\n \\n\\n \\n\\nACADEMIC BACKGROUND\\n  \\n\\n \\n\\n \\n\\nElectronics and Telecommunication \\nEngineering\\n \\n\\nBTECH | MAY 2013 \\n-\\n \\nMAR 2017\\n \\n\\n \\n\\nBTECH in ENTCE\\n \\n\\n-\\n \\nCompleted\\n \\nmy\\n \\n4\\n \\nyears\\n \\nEngineering\\n \\nfrom\\n \\nOrissa\\n \\n\\nEngineering \\nCollege\\n \\nP U J A\\n \\n\\nK U M A R\\n \\nI\\n '"
      ]
     },
     "execution_count": 23,
     "metadata": {},
     "output_type": "execute_result"
    }
   ],
   "source": [
    "## Reading text file\n",
    "Text=open('extractedText.txt','r')\n",
    "Text.read()"
   ]
  },
  {
   "cell_type": "code",
   "execution_count": 28,
   "id": "a4258b87",
   "metadata": {},
   "outputs": [],
   "source": [
    "first_page=a.getPage(0)"
   ]
  },
  {
   "cell_type": "code",
   "execution_count": 29,
   "id": "0ae6f5b7",
   "metadata": {},
   "outputs": [],
   "source": [
    "## Converting extracted text to pdf\n",
    "pdf_writer=PyPDF2.PdfFileWriter()\n",
    "pdf_writer.addPage(first_page)\n"
   ]
  },
  {
   "cell_type": "code",
   "execution_count": 30,
   "id": "e320c2b3",
   "metadata": {},
   "outputs": [],
   "source": [
    "output=open('P_Resume.pdf','wb')\n",
    "pdf_writer.write(output)\n",
    "output.close()\n"
   ]
  },
  {
   "cell_type": "code",
   "execution_count": null,
   "id": "08875e06",
   "metadata": {},
   "outputs": [],
   "source": []
  },
  {
   "cell_type": "code",
   "execution_count": null,
   "id": "1e557a48",
   "metadata": {},
   "outputs": [],
   "source": []
  },
  {
   "cell_type": "code",
   "execution_count": null,
   "id": "1ec4b5bb",
   "metadata": {},
   "outputs": [],
   "source": []
  },
  {
   "cell_type": "code",
   "execution_count": null,
   "id": "4e905cac",
   "metadata": {},
   "outputs": [],
   "source": []
  },
  {
   "cell_type": "code",
   "execution_count": null,
   "id": "a982b128",
   "metadata": {},
   "outputs": [],
   "source": []
  },
  {
   "cell_type": "code",
   "execution_count": null,
   "id": "ac97d6b3",
   "metadata": {},
   "outputs": [],
   "source": []
  },
  {
   "cell_type": "code",
   "execution_count": null,
   "id": "c43de6ba",
   "metadata": {},
   "outputs": [],
   "source": [
    " "
   ]
  },
  {
   "cell_type": "code",
   "execution_count": null,
   "id": "0bfe0e92",
   "metadata": {},
   "outputs": [],
   "source": []
  },
  {
   "cell_type": "code",
   "execution_count": null,
   "id": "37667cfc",
   "metadata": {},
   "outputs": [],
   "source": []
  },
  {
   "cell_type": "code",
   "execution_count": null,
   "id": "a7689177",
   "metadata": {},
   "outputs": [],
   "source": []
  },
  {
   "cell_type": "code",
   "execution_count": null,
   "id": "ee4e2a79",
   "metadata": {},
   "outputs": [],
   "source": []
  }
 ],
 "metadata": {
  "kernelspec": {
   "display_name": "Python 3",
   "language": "python",
   "name": "python3"
  },
  "language_info": {
   "codemirror_mode": {
    "name": "ipython",
    "version": 3
   },
   "file_extension": ".py",
   "mimetype": "text/x-python",
   "name": "python",
   "nbconvert_exporter": "python",
   "pygments_lexer": "ipython3",
   "version": "3.8.8"
  }
 },
 "nbformat": 4,
 "nbformat_minor": 5
}
